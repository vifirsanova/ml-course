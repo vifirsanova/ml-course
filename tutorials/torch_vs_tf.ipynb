{
  "nbformat": 4,
  "nbformat_minor": 0,
  "metadata": {
    "colab": {
      "provenance": []
    },
    "kernelspec": {
      "name": "python3",
      "display_name": "Python 3"
    },
    "language_info": {
      "name": "python"
    }
  },
  "cells": [
    {
      "cell_type": "markdown",
      "source": [
        "`machine learning course 2025 (с) mssvctr`"
      ],
      "metadata": {
        "id": "8GDb7hGiqeJW"
      }
    },
    {
      "cell_type": "markdown",
      "source": [
        "## Torch"
      ],
      "metadata": {
        "id": "RncKw24iKiPM"
      }
    },
    {
      "cell_type": "code",
      "source": [
        "!pip install torch torchvision matplotlib -q"
      ],
      "metadata": {
        "id": "ybhmWlptMYra"
      },
      "execution_count": null,
      "outputs": []
    },
    {
      "cell_type": "code",
      "source": [
        "import torch\n",
        "import torch.nn as nn\n",
        "import torch.optim as optim\n",
        "import torchvision\n",
        "import torchvision.transforms as transforms\n",
        "import matplotlib.pyplot as plt"
      ],
      "metadata": {
        "id": "HrXjJYp8KTvA"
      },
      "execution_count": 2,
      "outputs": []
    },
    {
      "cell_type": "markdown",
      "source": [
        "Как работает регуляризация:\n",
        "\n",
        "```\n",
        "image = (image - mean) / std\n",
        "\n",
        "# mean, std = 0.5, 0.5\n",
        "# значения тензора изображений попадут в диапзон [-1,1]\n",
        "# допустим, фактический минимум = 0, а максимум = 1\n",
        "# (0 - 0.5) / 0.5 = -1 (минимум после регуляризации)\n",
        "# (1 - 0.5) / 0.5 = 1  (максимум после регуляризации)\n",
        "```"
      ],
      "metadata": {
        "id": "m5LbJUBuMH_3"
      }
    },
    {
      "cell_type": "code",
      "source": [
        "# преобразование изображений к виду тензоров + регуляризация\n",
        "transform = transforms.Compose([transforms.ToTensor(), transforms.Normalize((0.5,), (0.5,))])\n",
        "\n",
        "# загрузка датасета через torchvision\n",
        "train_dataset = torchvision.datasets.MNIST(root=\"./data\", train=True, transform=transform, download=True)\n",
        "test_dataset = torchvision.datasets.MNIST(root=\"./data\", train=False, transform=transform, download=True)\n",
        "\n",
        "# Data loaders\n",
        "train_loader = torch.utils.data.DataLoader(train_dataset, batch_size=64, shuffle=True)\n",
        "test_loader = torch.utils.data.DataLoader(test_dataset, batch_size=64, shuffle=False)"
      ],
      "metadata": {
        "id": "e8jT6QLUKXjY"
      },
      "execution_count": null,
      "outputs": []
    },
    {
      "cell_type": "code",
      "source": [
        "def show_mnist_samples(dataset, num_images=6):\n",
        "    fig, axes = plt.subplots(1, num_images, figsize=(10, 3))\n",
        "    for i in range(num_images):\n",
        "        img, label = dataset[i]\n",
        "        img = img.squeeze()\n",
        "        axes[i].imshow(img, cmap=\"gray\")\n",
        "        axes[i].set_title(f\"Label: {label}\")\n",
        "        axes[i].axis(\"off\")\n",
        "    plt.show()\n",
        "\n",
        "show_mnist_samples(train_dataset)"
      ],
      "metadata": {
        "colab": {
          "base_uri": "https://localhost:8080/",
          "height": 190
        },
        "id": "7mPdnG2cNguU",
        "outputId": "c96057fd-ab2d-4f59-c2ac-1bcbd73e131a"
      },
      "execution_count": 14,
      "outputs": [
        {
          "output_type": "display_data",
          "data": {
            "text/plain": [
              "<Figure size 1000x300 with 6 Axes>"
            ],
            "image/png": "[encoded data removed]"
          },
          "metadata": {}
        }
      ]
    },
    {
      "cell_type": "markdown",
      "source": [
        "Какие еще датасеты доступны в torchvision?\n",
        "\n",
        "- найдите данные\n",
        "- загрузите датасеты\n",
        "- выведите 1 сэмпл с помощью кода на Python\n",
        "- назовите задачу, которая решается с помощью этого датасета"
      ],
      "metadata": {
        "id": "x8kLJmUMNzXN"
      }
    },
    {
      "cell_type": "code",
      "source": [
        "class FFN(nn.Module):\n",
        "    def __init__(self):\n",
        "        super(FFN, self).__init__()\n",
        "        self.fc1 = nn.Linear(28*28, 128)\n",
        "        self.fc2 = nn.Linear(128, 64)\n",
        "        self.fc3 = nn.Linear(64, 10)\n",
        "        self.relu = nn.ReLU()\n",
        "        self.softmax = nn.LogSoftmax(dim=1)\n",
        "\n",
        "    def forward(self, x):\n",
        "        x = x.view(-1, 28*28)  # Flatten - приводим к виду одномерного вектора\n",
        "        x = self.relu(self.fc1(x))\n",
        "        x = self.relu(self.fc2(x))\n",
        "        x = self.softmax(self.fc3(x))\n",
        "        return x"
      ],
      "metadata": {
        "id": "aQO3oSDUKZPS"
      },
      "execution_count": 4,
      "outputs": []
    },
    {
      "cell_type": "code",
      "source": [
        "device = torch.device(\"cuda\" if torch.cuda.is_available() else \"cpu\")\n",
        "model = FFN().to(device)\n",
        "\n",
        "criterion = nn.CrossEntropyLoss()\n",
        "optimizer = optim.Adam(model.parameters(), lr=0.001)\n",
        "\n",
        "# обучение\n",
        "epochs = 5\n",
        "for epoch in range(epochs):\n",
        "    running_loss = 0\n",
        "    for images, labels in train_loader:\n",
        "        images, labels = images.to(device), labels.to(device)\n",
        "\n",
        "        optimizer.zero_grad()\n",
        "        output = model(images)\n",
        "        loss = criterion(output, labels)\n",
        "        loss.backward()\n",
        "        optimizer.step()\n",
        "\n",
        "        running_loss += loss.item()\n",
        "\n",
        "    print(f\"Epoch {epoch+1}/{epochs}, Loss: {running_loss/len(train_loader):.4f}\")"
      ],
      "metadata": {
        "colab": {
          "base_uri": "https://localhost:8080/"
        },
        "id": "sMMdawevKc7g",
        "outputId": "0fbe4cd9-96e0-4545-dd99-ee205040c8cf"
      },
      "execution_count": 5,
      "outputs": [
        {
          "output_type": "stream",
          "name": "stdout",
          "text": [
            "Epoch 1/5, Loss: 0.3788\n",
            "Epoch 2/5, Loss: 0.1775\n",
            "Epoch 3/5, Loss: 0.1321\n",
            "Epoch 4/5, Loss: 0.1083\n",
            "Epoch 5/5, Loss: 0.0930\n"
          ]
        }
      ]
    },
    {
      "cell_type": "markdown",
      "source": [
        "Произведите настройку гиперпараметров и переобучите модель:\n",
        "\n",
        "- измените архитектуру модели\n",
        "  - какие настройки вы не можете изменить?\n",
        "  - измените размер слоев\n",
        "  - замените функции активации, функцию потерь или оптимизатор, ориентируясь на документацию PyTorch\n",
        "- измените гиперпараметры\n",
        "  - learning rate\n",
        "  - epochs"
      ],
      "metadata": {
        "id": "oRwAOXeWOuC7"
      }
    },
    {
      "cell_type": "markdown",
      "source": [
        "### TF"
      ],
      "metadata": {
        "id": "pHwMqFwNKlQe"
      }
    },
    {
      "cell_type": "code",
      "source": [
        "!pip install tensorflow matplotlib -q"
      ],
      "metadata": {
        "id": "h3AcZtGrKe0l"
      },
      "execution_count": null,
      "outputs": []
    },
    {
      "cell_type": "code",
      "source": [
        "import tensorflow as tf\n",
        "from tensorflow.keras.models import Sequential\n",
        "from tensorflow.keras.layers import Dense, Flatten\n",
        "from tensorflow.keras.optimizers import Adam\n",
        "import matplotlib.pyplot as plt"
      ],
      "metadata": {
        "id": "lDrTB5kbKny_"
      },
      "execution_count": 7,
      "outputs": []
    },
    {
      "cell_type": "code",
      "source": [
        "# загрузка датасета\n",
        "(x_train, y_train), (x_test, y_test) = tf.keras.datasets.mnist.load_data()\n",
        "\n",
        "# регуляризация\n",
        "x_train, x_test = x_train / 255.0, x_test / 255.0"
      ],
      "metadata": {
        "colab": {
          "base_uri": "https://localhost:8080/"
        },
        "id": "i25yR74tKpRN",
        "outputId": "0aa6e50b-c567-43c9-c471-1609777c8cd4"
      },
      "execution_count": 8,
      "outputs": [
        {
          "output_type": "stream",
          "name": "stdout",
          "text": [
            "Downloading data from https://storage.googleapis.com/tensorflow/tf-keras-datasets/mnist.npz\n",
            "\u001b[1m11490434/11490434\u001b[0m \u001b[32m━━━━━━━━━━━━━━━━━━━━\u001b[0m\u001b[37m\u001b[0m \u001b[1m0s\u001b[0m 0us/step\n"
          ]
        }
      ]
    },
    {
      "cell_type": "code",
      "source": [
        "def show_mnist_samples_tf(x, y, num_images=6):\n",
        "    fig, axes = plt.subplots(1, num_images, figsize=(10, 3))\n",
        "    for i in range(num_images):\n",
        "        axes[i].imshow(x[i], cmap=\"gray\")\n",
        "        axes[i].set_title(f\"Label: {y[i]}\")\n",
        "        axes[i].axis(\"off\")\n",
        "    plt.show()\n",
        "\n",
        "show_mnist_samples_tf(x_train, y_train)"
      ],
      "metadata": {
        "colab": {
          "base_uri": "https://localhost:8080/",
          "height": 190
        },
        "id": "Om0Wr76JTb1n",
        "outputId": "73a21804-246e-4696-daf5-3f8b6bb756af"
      },
      "execution_count": 15,
      "outputs": [
        {
          "output_type": "display_data",
          "data": {
            "text/plain": [
              "<Figure size 1000x300 with 6 Axes>"
            ],
            "image/png": "[encoded data removed]"
          },
          "metadata": {}
        }
      ]
    },
    {
      "cell_type": "markdown",
      "source": [
        "Какие еще датасеты доступны в tf?\n",
        "\n",
        "Выберите любой датасет из tf, загрузите его и покажите 1 сэмпл. Опишите его свойства и сферы применения"
      ],
      "metadata": {
        "id": "K7wP-1JdTJGz"
      }
    },
    {
      "cell_type": "code",
      "source": [
        "model = Sequential([\n",
        "    Flatten(input_shape=(28, 28)),\n",
        "    Dense(128, activation='relu'),\n",
        "    Dense(64, activation='relu'),\n",
        "    Dense(10, activation='softmax')\n",
        "])\n",
        "\n",
        "model.compile(optimizer=Adam(learning_rate=0.001), loss='sparse_categorical_crossentropy', metrics=['accuracy'])"
      ],
      "metadata": {
        "colab": {
          "base_uri": "https://localhost:8080/"
        },
        "id": "XvSu44YAKqze",
        "outputId": "120ab08c-6392-401a-e66b-ec70bc638358"
      },
      "execution_count": 9,
      "outputs": [
        {
          "output_type": "stream",
          "name": "stderr",
          "text": [
            "/usr/local/lib/python3.11/dist-packages/keras/src/layers/reshaping/flatten.py:37: UserWarning: Do not pass an `input_shape`/`input_dim` argument to a layer. When using Sequential models, prefer using an `Input(shape)` object as the first layer in the model instead.\n",
            "  super().__init__(**kwargs)\n"
          ]
        }
      ]
    },
    {
      "cell_type": "code",
      "source": [
        "model.fit(x_train, y_train, epochs=5, batch_size=64, validation_data=(x_test, y_test))"
      ],
      "metadata": {
        "colab": {
          "base_uri": "https://localhost:8080/"
        },
        "id": "0V0r157SKs0Y",
        "outputId": "c4cf1da0-cd3d-4501-83d9-4272b40aafc4"
      },
      "execution_count": 10,
      "outputs": [
        {
          "output_type": "stream",
          "name": "stdout",
          "text": [
            "Epoch 1/5\n",
            "\u001b[1m938/938\u001b[0m \u001b[32m━━━━━━━━━━━━━━━━━━━━\u001b[0m\u001b[37m\u001b[0m \u001b[1m8s\u001b[0m 7ms/step - accuracy: 0.8555 - loss: 0.4958 - val_accuracy: 0.9572 - val_loss: 0.1396\n",
            "Epoch 2/5\n",
            "\u001b[1m938/938\u001b[0m \u001b[32m━━━━━━━━━━━━━━━━━━━━\u001b[0m\u001b[37m\u001b[0m \u001b[1m8s\u001b[0m 8ms/step - accuracy: 0.9640 - loss: 0.1199 - val_accuracy: 0.9701 - val_loss: 0.0980\n",
            "Epoch 3/5\n",
            "\u001b[1m938/938\u001b[0m \u001b[32m━━━━━━━━━━━━━━━━━━━━\u001b[0m\u001b[37m\u001b[0m \u001b[1m7s\u001b[0m 5ms/step - accuracy: 0.9756 - loss: 0.0809 - val_accuracy: 0.9746 - val_loss: 0.0812\n",
            "Epoch 4/5\n",
            "\u001b[1m938/938\u001b[0m \u001b[32m━━━━━━━━━━━━━━━━━━━━\u001b[0m\u001b[37m\u001b[0m \u001b[1m4s\u001b[0m 4ms/step - accuracy: 0.9819 - loss: 0.0582 - val_accuracy: 0.9769 - val_loss: 0.0761\n",
            "Epoch 5/5\n",
            "\u001b[1m938/938\u001b[0m \u001b[32m━━━━━━━━━━━━━━━━━━━━\u001b[0m\u001b[37m\u001b[0m \u001b[1m3s\u001b[0m 4ms/step - accuracy: 0.9878 - loss: 0.0396 - val_accuracy: 0.9796 - val_loss: 0.0684\n"
          ]
        },
        {
          "output_type": "execute_result",
          "data": {
            "text/plain": [
              "<keras.src.callbacks.history.History at 0x7863f6857a50>"
            ]
          },
          "metadata": {},
          "execution_count": 10
        }
      ]
    },
    {
      "cell_type": "code",
      "source": [
        "loss, acc = model.evaluate(x_test, y_test)\n",
        "print(f\"Test Accuracy: {acc * 100:.2f}%\")"
      ],
      "metadata": {
        "colab": {
          "base_uri": "https://localhost:8080/"
        },
        "id": "_oKdhr64Kuyj",
        "outputId": "935ca216-cfc7-437d-c055-4e7132dfd281"
      },
      "execution_count": 11,
      "outputs": [
        {
          "output_type": "stream",
          "name": "stdout",
          "text": [
            "\u001b[1m313/313\u001b[0m \u001b[32m━━━━━━━━━━━━━━━━━━━━\u001b[0m\u001b[37m\u001b[0m \u001b[1m1s\u001b[0m 2ms/step - accuracy: 0.9765 - loss: 0.0792\n",
            "Test Accuracy: 97.96%\n"
          ]
        }
      ]
    },
    {
      "cell_type": "markdown",
      "source": [
        "Произведите аналогичную настройку гиперпараметров.\n",
        "\n",
        "Чем отличаются библиотеки?"
      ],
      "metadata": {
        "id": "DS2tTIkaTtc1"
      }
    }
  ]
}
